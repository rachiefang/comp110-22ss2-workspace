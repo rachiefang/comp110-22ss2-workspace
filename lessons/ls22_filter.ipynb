{
 "cells": [
  {
   "cell_type": "markdown",
   "metadata": {},
   "source": [
    "# Filtering Data Based on Criteria\n",
    "\n",
    "In this lesson, we will use a simple, small dataset of weather projections in Chapel Hill for Thursday, March 25th, through Saturday, April 3rd, where each row is the projection for the next day in that timeframe.\n",
    "\n",
    "Our analysis goal is to find the average temperatures on days where it is unlikely (less than 30%) to rain.\n",
    "\n",
    "We will consider approaching this problem from a column-oriented perspective.\n",
    "\n",
    "First, let's consider our data set."
   ]
  },
  {
   "cell_type": "code",
   "execution_count": 1,
   "metadata": {},
   "outputs": [
    {
     "data": {
      "text/plain": [
       "{'high': [77, 84, 78, 79, 65, 67, 74, 61, 55, 61],\n",
       " 'low': [67, 51, 64, 45, 43, 53, 56, 37, 34, 42],\n",
       " 'rain': [0.3, 0.2, 0.4, 0.8, 0.0, 0.2, 0.4, 0.5, 0.1, 0.1]}"
      ]
     },
     "execution_count": 1,
     "metadata": {},
     "output_type": "execute_result"
    }
   ],
   "source": [
    "col_data: dict[str, list[float]] = {\n",
    "    \"high\": [77, 84, 78, 79, 65, 67, 74, 61, 55, 61],\n",
    "    \"low\":  [67, 51, 64, 45, 43, 53, 56, 37, 34, 42],\n",
    "    \"rain\": [.3, .2, .4, .8, 0., .2, .4, .5, .1, .1]\n",
    "}\n",
    "\n",
    "col_data"
   ]
  },
  {
   "cell_type": "code",
   "execution_count": 5,
   "metadata": {},
   "outputs": [
    {
     "name": "stdout",
     "output_type": "stream",
     "text": [
      "[0.3, 0.2, 0.4, 0.8, 0.0, 0.2, 0.4, 0.5, 0.1, 0.1]\n",
      "[77, 84, 78, 79, 65, 67, 74, 61, 55, 61]\n"
     ]
    }
   ],
   "source": [
    "print(col_data[\"rain\"])\n",
    "print(col_data[\"high\"])"
   ]
  },
  {
   "cell_type": "code",
   "execution_count": 2,
   "metadata": {},
   "outputs": [],
   "source": [
    "## Produce a \"Mask\" Based on Criteria\n"
   ]
  },
  {
   "cell_type": "code",
   "execution_count": 28,
   "metadata": {},
   "outputs": [
    {
     "name": "stdout",
     "output_type": "stream",
     "text": [
      "[False, True, False, False, True, True, False, False, True, True]\n",
      "[0.3, 0.2, 0.4, 0.8, 0.0, 0.2, 0.4, 0.5, 0.1, 0.1]\n",
      "[False, True, False, False, True, True, False, False, True, True]\n",
      "[77, 84, 78, 79, 65, 67, 74, 61, 55, 61]\n"
     ]
    }
   ],
   "source": [
    "def less_than(col: list[float], threshold: float) -> list[bool]:\n",
    "    result: list[bool] = []\n",
    "    for item in col:\n",
    "        result.append(item < threshold)    \n",
    "            # if item < threshold:\n",
    "            #    result.append(True)\n",
    "            #else:\n",
    "            #    result.append(False)    \n",
    "    return result\n",
    "\n",
    "# Example, testing call:\n",
    "no_rain_mask: list[bool] = less_than(col_data[\"rain\"], 0.3)\n",
    "print(no_rain_mask)\n",
    "def masked(col: list[float], mask: list[bool]) -> list[float]:\n",
    "    result: list[float] = []\n",
    "    for i in range(len(mask)):\n",
    "        if mask[i]:\n",
    "            result.append(col[i])\n",
    "    return result\n",
    "\n",
    "#Test call\n",
    "masked(col_data[\"high\"], no_rain_mask)\n",
    "print(col_data[\"rain\"])\n",
    "print(no_rain_mask)\n",
    "print(col_data[\"high\"])\n",
    "\n",
    "def mean(col: list[float]) -> float:\n",
    "    return sum(col)/len(col)\n",
    "mean(highs_of_no_rain_days)"
   ]
  },
  {
   "cell_type": "code",
   "execution_count": 27,
   "metadata": {},
   "outputs": [
    {
     "ename": "NameError",
     "evalue": "name 'no_rain_mask' is not defined",
     "output_type": "error",
     "traceback": [
      "\u001b[0;31m---------------------------------------------------------------------------\u001b[0m",
      "\u001b[0;31mNameError\u001b[0m                                 Traceback (most recent call last)",
      "\u001b[1;32m/Users/rachelfang/comp 110/comp110-22ss2-workspace/lessons/ls22_filter.ipynb Cell 6'\u001b[0m in \u001b[0;36m<cell line: 9>\u001b[0;34m()\u001b[0m\n\u001b[1;32m      <a href='vscode-notebook-cell:/Users/rachelfang/comp%20110/comp110-22ss2-workspace/lessons/ls22_filter.ipynb#ch0000008?line=5'>6</a>\u001b[0m     \u001b[39mreturn\u001b[39;00m result\n\u001b[1;32m      <a href='vscode-notebook-cell:/Users/rachelfang/comp%20110/comp110-22ss2-workspace/lessons/ls22_filter.ipynb#ch0000008?line=7'>8</a>\u001b[0m \u001b[39m#Test call\u001b[39;00m\n\u001b[0;32m----> <a href='vscode-notebook-cell:/Users/rachelfang/comp%20110/comp110-22ss2-workspace/lessons/ls22_filter.ipynb#ch0000008?line=8'>9</a>\u001b[0m masked(col_data[\u001b[39m\"\u001b[39m\u001b[39mhigh\u001b[39m\u001b[39m\"\u001b[39m], no_rain_mask)\n\u001b[1;32m     <a href='vscode-notebook-cell:/Users/rachelfang/comp%20110/comp110-22ss2-workspace/lessons/ls22_filter.ipynb#ch0000008?line=9'>10</a>\u001b[0m \u001b[39mprint\u001b[39m(col_data[\u001b[39m\"\u001b[39m\u001b[39mrain\u001b[39m\u001b[39m\"\u001b[39m])\n\u001b[1;32m     <a href='vscode-notebook-cell:/Users/rachelfang/comp%20110/comp110-22ss2-workspace/lessons/ls22_filter.ipynb#ch0000008?line=10'>11</a>\u001b[0m \u001b[39mprint\u001b[39m(no_rain_mask)\n",
      "\u001b[0;31mNameError\u001b[0m: name 'no_rain_mask' is not defined"
     ]
    }
   ],
   "source": [
    "\n"
   ]
  },
  {
   "cell_type": "markdown",
   "metadata": {},
   "source": [
    "# Masked Function\n",
    "\n",
    "Takes in a coloumn adn a list of masks (bool values), retunrs only teh values in teh input comlumn where teh corresponding mask value is true."
   ]
  },
  {
   "cell_type": "code",
   "execution_count": 26,
   "metadata": {},
   "outputs": [
    {
     "ename": "NameError",
     "evalue": "name 'no_rain_mask' is not defined",
     "output_type": "error",
     "traceback": [
      "\u001b[0;31m---------------------------------------------------------------------------\u001b[0m",
      "\u001b[0;31mNameError\u001b[0m                                 Traceback (most recent call last)",
      "\u001b[1;32m/Users/rachelfang/comp 110/comp110-22ss2-workspace/lessons/ls22_filter.ipynb Cell 7'\u001b[0m in \u001b[0;36m<cell line: 9>\u001b[0;34m()\u001b[0m\n\u001b[1;32m      <a href='vscode-notebook-cell:/Users/rachelfang/comp%20110/comp110-22ss2-workspace/lessons/ls22_filter.ipynb#ch0000006?line=5'>6</a>\u001b[0m     \u001b[39mreturn\u001b[39;00m result\n\u001b[1;32m      <a href='vscode-notebook-cell:/Users/rachelfang/comp%20110/comp110-22ss2-workspace/lessons/ls22_filter.ipynb#ch0000006?line=7'>8</a>\u001b[0m \u001b[39m#Test call\u001b[39;00m\n\u001b[0;32m----> <a href='vscode-notebook-cell:/Users/rachelfang/comp%20110/comp110-22ss2-workspace/lessons/ls22_filter.ipynb#ch0000006?line=8'>9</a>\u001b[0m masked(col_data[\u001b[39m\"\u001b[39m\u001b[39mhigh\u001b[39m\u001b[39m\"\u001b[39m], no_rain_mask)\n\u001b[1;32m     <a href='vscode-notebook-cell:/Users/rachelfang/comp%20110/comp110-22ss2-workspace/lessons/ls22_filter.ipynb#ch0000006?line=9'>10</a>\u001b[0m \u001b[39mprint\u001b[39m(col_data[\u001b[39m\"\u001b[39m\u001b[39mrain\u001b[39m\u001b[39m\"\u001b[39m])\n\u001b[1;32m     <a href='vscode-notebook-cell:/Users/rachelfang/comp%20110/comp110-22ss2-workspace/lessons/ls22_filter.ipynb#ch0000006?line=10'>11</a>\u001b[0m \u001b[39mprint\u001b[39m(no_rain_mask)\n",
      "\u001b[0;31mNameError\u001b[0m: name 'no_rain_mask' is not defined"
     ]
    }
   ],
   "source": [
    "def masked(col: list[float], mask: list[bool]) -> list[float]:\n",
    "    result: list[float] = []\n",
    "    for i in range(len(mask)):\n",
    "        if mask[i]:\n",
    "            result.append(col[i])\n",
    "    return result\n",
    "\n",
    "#Test call\n",
    "masked(col_data[\"high\"], no_rain_mask)\n",
    "print(col_data[\"rain\"])\n",
    "print(no_rain_mask)\n",
    "print(col_data[\"high\"])"
   ]
  },
  {
   "cell_type": "markdown",
   "metadata": {},
   "source": [
    "## With these helper funcitons, we can perform many analyses!"
   ]
  },
  {
   "cell_type": "code",
   "execution_count": 30,
   "metadata": {},
   "outputs": [
    {
     "name": "stdout",
     "output_type": "stream",
     "text": [
      "[False, False, False, True, True, False, False, True, True, True]\n"
     ]
    }
   ],
   "source": [
    "cold_days_mask: list[bool] = less_than(col_data[\"low\"], 50)\n",
    "print (cold_days_mask)"
   ]
  },
  {
   "cell_type": "code",
   "execution_count": 31,
   "metadata": {},
   "outputs": [
    {
     "ename": "NameError",
     "evalue": "name 'mean' is not defined",
     "output_type": "error",
     "traceback": [
      "\u001b[0;31m---------------------------------------------------------------------------\u001b[0m",
      "\u001b[0;31mNameError\u001b[0m                                 Traceback (most recent call last)",
      "\u001b[1;32m/Users/rachelfang/comp 110/comp110-22ss2-workspace/lessons/ls22_filter.ipynb Cell 11'\u001b[0m in \u001b[0;36m<cell line: 11>\u001b[0;34m()\u001b[0m\n\u001b[1;32m      <a href='vscode-notebook-cell:/Users/rachelfang/comp%20110/comp110-22ss2-workspace/lessons/ls22_filter.ipynb#ch0000013?line=7'>8</a>\u001b[0m mask_b: \u001b[39mlist\u001b[39m[\u001b[39mbool\u001b[39m] \u001b[39m=\u001b[39m not_mask(mask_a)\n\u001b[1;32m     <a href='vscode-notebook-cell:/Users/rachelfang/comp%20110/comp110-22ss2-workspace/lessons/ls22_filter.ipynb#ch0000013?line=9'>10</a>\u001b[0m values: \u001b[39mlist\u001b[39m[\u001b[39mfloat\u001b[39m] \u001b[39m=\u001b[39m masked(col_data[\u001b[39m\"\u001b[39m\u001b[39mlow\u001b[39m\u001b[39m\"\u001b[39m], mask_b)\n\u001b[0;32m---> <a href='vscode-notebook-cell:/Users/rachelfang/comp%20110/comp110-22ss2-workspace/lessons/ls22_filter.ipynb#ch0000013?line=10'>11</a>\u001b[0m \u001b[39mprint\u001b[39m(mean(values))\n",
      "\u001b[0;31mNameError\u001b[0m: name 'mean' is not defined"
     ]
    }
   ],
   "source": [
    "def not_mask(mask: list[bool]) -> list[bool]:\n",
    "    result: list[bool] = []\n",
    "    for item in mask:\n",
    "        result.append(not item)\n",
    "    return result\n",
    "\n",
    "mask_a: list[bool] = less_than(col_data[\"high\"], 80)\n",
    "mask_b: list[bool] = not_mask(mask_a)\n",
    "\n",
    "values: list[float] = masked(col_data[\"low\"], mask_b)\n",
    "print(mean(values))"
   ]
  },
  {
   "cell_type": "markdown",
   "metadata": {},
   "source": []
  }
 ],
 "metadata": {
  "interpreter": {
   "hash": "aee8b7b246df8f9039afb4144a1f6fd8d2ca17a180786b69acc140d282b71a49"
  },
  "kernelspec": {
   "display_name": "Python 3.9.6 64-bit",
   "language": "python",
   "name": "python3"
  },
  "language_info": {
   "codemirror_mode": {
    "name": "ipython",
    "version": 3
   },
   "file_extension": ".py",
   "mimetype": "text/x-python",
   "name": "python",
   "nbconvert_exporter": "python",
   "pygments_lexer": "ipython3",
   "version": "3.10.5"
  },
  "orig_nbformat": 4
 },
 "nbformat": 4,
 "nbformat_minor": 2
}
